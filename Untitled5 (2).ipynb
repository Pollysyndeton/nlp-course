{
  "cells": [
    {
      "cell_type": "code",
      "execution_count": null,
      "metadata": {
        "id": "1aX_cjqjE3zx"
      },
      "outputs": [],
      "source": [
        "import json\n",
        "\n",
        "# Загрузка данных\n",
        "with open(\"result.json\", \"r\", encoding=\"utf-8\") as f:\n",
        "    data = json.load(f)"
      ]
    },
    {
      "cell_type": "code",
      "execution_count": null,
      "metadata": {
        "id": "XuKFwFDDFmQ2"
      },
      "outputs": [],
      "source": [
        "texts = []\n",
        "for message in data['messages']:\n",
        "  if type(message['text']) == list:\n",
        "    for i in message['text']:\n",
        "      if type(i) == str:\n",
        "        texts.append(i)\n",
        "      else:\n",
        "        texts.append(str(message['text']))\n",
        "  else:\n",
        "    texts.append(str(message['text']))"
      ]
    },
    {
      "cell_type": "code",
      "execution_count": null,
      "metadata": {
        "id": "2J2GVGh1HpHz"
      },
      "outputs": [],
      "source": [
        "with open(\"data.txt\", \"w\", encoding=\"utf-8\") as f:\n",
        "  f.writelines(texts)"
      ]
    },
    {
      "cell_type": "code",
      "execution_count": null,
      "metadata": {
        "id": "g3rB-2brKSGH"
      },
      "outputs": [],
      "source": [
        "with open(\"data.txt\", \"r\", encoding = \"utf-8\") as f:\n",
        "  text_text = f.read()"
      ]
    },
    {
      "cell_type": "code",
      "execution_count": null,
      "metadata": {
        "colab": {
          "background_save": true
        },
        "id": "P4xKnBgSLLgc",
        "outputId": "6b8d3f33-75ac-4282-b93e-cfc7ed3821c7"
      },
      "outputs": [
        {
          "name": "stdout",
          "output_type": "stream",
          "text": [
            "Buffered data was truncated after reaching the output size limit."
          ]
        }
      ],
      "source": [
        "from langchain.text_splitter import RecursiveCharacterTextSplitter\n",
        "text_splitter = RecursiveCharacterTextSplitter(\n",
        "    chunk_size=1000,\n",
        "    chunk_overlap=100\n",
        ")\n",
        "chunks = text_splitter.split_text(text_text)\n",
        "for i, chunk in enumerate(chunks):\n",
        "    print(f\"Chunk {i+1}:\\n{chunk}\\n\")"
      ]
    },
    {
      "cell_type": "code",
      "execution_count": null,
      "metadata": {
        "colab": {
          "base_uri": "https://localhost:8080/"
        },
        "id": "sE7iprWhPM9E",
        "outputId": "6f3edb6f-1701-48c7-988f-19f434e7345a"
      },
      "outputs": [
        {
          "name": "stdout",
          "output_type": "stream",
          "text": [
            "Chunk 1:\n",
            "[{'type': 'text_link', 'text': '\\u200b\\u200b', 'href': 'https://telegra.ph/file/d69fb0cb533c86c21bb8f.jpg'}, '📚 ', {'type': 'bold', 'text': '«Дело против образования»\\n'}, {'type': 'italic', 'text': '👤 Брайан'}, ' Каплан\\n\\nКнига американского ученого и писателя Брайана Каплана рассказывает о подводных камнях современного образования, всевозможных мифах о его пользе и о том, как оно постепенно становится фикцией.\\n\\n📖 ', {'type': 'text_link', 'text': 'Читать кратко', 'href': 'https://t.me/skarhiv/1495'}, ' | 🎧 ', {'type': 'text_link', 'text': 'Слушать кратко', 'href': 'https://t.me/powersay/2726'}, '']📚 [{'type': 'text_link', 'text': '\\u200b\\u200b', 'href': 'https://telegra.ph/file/d69fb0cb533c86c21bb8f.jpg'}, '📚 ', {'type': 'bold', 'text': '«Дело против образования»\\n'}, {'type': 'italic', 'text': '👤 Брайан'}, ' Каплан\\n\\nКнига американского ученого и писателя Брайана Каплана рассказывает о подводных камнях современного образования, всевозможных мифах о его пользе и о том, как оно\n",
            " The length of the chunk is 996\n",
            "\n",
            "Chunk 2:\n",
            "о подводных камнях современного образования, всевозможных мифах о его пользе и о том, как оно постепенно становится фикцией.\\n\\n📖 ', {'type': 'text_link', 'text': 'Читать кратко', 'href': 'https://t.me/skarhiv/1495'}, ' | 🎧 ', {'type': 'text_link', 'text': 'Слушать кратко', 'href': 'https://t.me/powersay/2726'}, ''][{'type': 'text_link', 'text': '\\u200b\\u200b', 'href': 'https://telegra.ph/file/d69fb0cb533c86c21bb8f.jpg'}, '📚 ', {'type': 'bold', 'text': '«Дело против образования»\\n'}, {'type': 'italic', 'text': '👤 Брайан'}, ' Каплан\\n\\nКнига американского ученого и писателя Брайана Каплана рассказывает о подводных камнях современного образования, всевозможных мифах о его пользе и о том, как оно постепенно становится фикцией.\\n\\n📖 ', {'type': 'text_link', 'text': 'Читать кратко', 'href': 'https://t.me/skarhiv/1495'}, ' | 🎧 ', {'type': 'text_link', 'text': 'Слушать кратко', 'href': 'https://t.me/powersay/2726'}, ''] Каплан\n",
            " The length of the chunk is 933\n",
            "\n",
            "Chunk 3:\n",
            "Книга американского ученого и писателя Брайана Каплана рассказывает о подводных камнях современного образования, всевозможных мифах о его пользе и о том, как оно постепенно становится фикцией.\n",
            " The length of the chunk is 192\n",
            "\n",
            "Chunk 4:\n",
            "📖 [{'type': 'text_link', 'text': '\\u200b\\u200b', 'href': 'https://telegra.ph/file/d69fb0cb533c86c21bb8f.jpg'}, '📚 ', {'type': 'bold', 'text': '«Дело против образования»\\n'}, {'type': 'italic', 'text': '👤 Брайан'}, ' Каплан\\n\\nКнига американского ученого и писателя Брайана Каплана рассказывает о подводных камнях современного образования, всевозможных мифах о его пользе и о том, как оно постепенно становится фикцией.\\n\\n📖 ', {'type': 'text_link', 'text': 'Читать кратко', 'href': 'https://t.me/skarhiv/1495'}, ' | 🎧 ', {'type': 'text_link', 'text': 'Слушать кратко', 'href': 'https://t.me/powersay/2726'}, ''] | 🎧 [{'type': 'text_link', 'text': '\\u200b\\u200b', 'href': 'https://telegra.ph/file/d69fb0cb533c86c21bb8f.jpg'}, '📚 ', {'type': 'bold', 'text': '«Дело против образования»\\n'}, {'type': 'italic', 'text': '👤 Брайан'}, ' Каплан\\n\\nКнига американского ученого и писателя Брайана Каплана рассказывает о подводных камнях современного образования, всевозможных мифах о его пользе и о том, как\n",
            " The length of the chunk is 997\n",
            "\n",
            "Chunk 5:\n",
            "о подводных камнях современного образования, всевозможных мифах о его пользе и о том, как оно постепенно становится фикцией.\\n\\n📖 ', {'type': 'text_link', 'text': 'Читать кратко', 'href': 'https://t.me/skarhiv/1495'}, ' | 🎧 ', {'type': 'text_link', 'text': 'Слушать кратко', 'href': 'https://t.me/powersay/2726'}, '']Бытует мнение, что современное образование «забило» осиновый кол на всем лучшем, что было создано педагогикой». По крайней мере в России.\n",
            " The length of the chunk is 454\n",
            "\n"
          ]
        }
      ],
      "source": [
        "for i, chunk in enumerate(chunks[:5]):\n",
        "    print(f\"Chunk {i + 1}:\\n{chunk}\\n The length of the chunk is {len(chunk)}\\n\")"
      ]
    },
    {
      "cell_type": "code",
      "execution_count": 26,
      "metadata": {
        "id": "j2VdPkeDSxPy"
      },
      "outputs": [],
      "source": [
        "import re\n",
        "\n",
        "def clean_text(text):\n",
        "  text = text.lower()\n",
        "  text = re.sub(r'[^а-я\\s]', ' ', text)\n",
        "  return text\n",
        "comm_chunks = []\n",
        "for chunk in chunks:\n",
        "  result = comm_chunks.append(clean_text(chunk))\n"
      ]
    },
    {
      "cell_type": "code",
      "execution_count": 27,
      "metadata": {
        "id": "v0lD-eyXaTjs"
      },
      "outputs": [],
      "source": [
        "tokens = []\n",
        "for chunk in comm_chunks:\n",
        "  tokens.append(chunk.split())"
      ]
    },
    {
      "cell_type": "code",
      "execution_count": null,
      "metadata": {
        "id": "xkLMeUKVa_N_"
      },
      "outputs": [],
      "source": [
        "!pip install gensim -q"
      ]
    },
    {
      "cell_type": "code",
      "execution_count": null,
      "metadata": {
        "colab": {
          "base_uri": "https://localhost:8080/"
        },
        "id": "1xe0fEA-JHY3",
        "outputId": "b991e13b-7807-438f-f14a-e3353ec644ba"
      },
      "outputs": [
        {
          "name": "stdout",
          "output_type": "stream",
          "text": [
            "Found existing installation: numpy 1.26.4\n",
            "Uninstalling numpy-1.26.4:\n",
            "  Successfully uninstalled numpy-1.26.4\n",
            "Collecting numpy==1.26.4\n",
            "  Using cached numpy-1.26.4-cp311-cp311-manylinux_2_17_x86_64.manylinux2014_x86_64.whl.metadata (61 kB)\n",
            "Using cached numpy-1.26.4-cp311-cp311-manylinux_2_17_x86_64.manylinux2014_x86_64.whl (18.3 MB)\n",
            "Installing collected packages: numpy\n",
            "Successfully installed numpy-1.26.4\n"
          ]
        }
      ],
      "source": [
        "!pip uninstall numpy -y\n",
        "!pip install numpy==1.26.4"
      ]
    },
    {
      "cell_type": "code",
      "execution_count": 28,
      "metadata": {
        "id": "yX4-8DYXbP0K"
      },
      "outputs": [],
      "source": [
        "from gensim.models import Word2Vec\n",
        "\n",
        "# Обучение модели\n",
        "model = Word2Vec(sentences=tokens, vector_size=100, window=5, min_count=1, workers=4)\n",
        "\n",
        "# Сохранение модели\n",
        "model.save(\"word2vec.model\")"
      ]
    },
    {
      "cell_type": "markdown",
      "source": [
        "sentences - те предложения в виде списков, на которых будет обучаться модель\n",
        "vector_size - размер вектора, в виде которого слово представлено\n",
        "widow - размер контекста: 5 единиц до и 5 - после\n",
        "min_count - минимальная частота слова (в данном случае мы берем во внимание все слова)\n",
        "workers - количество потоков при процессе обучения"
      ],
      "metadata": {
        "id": "MWy2MxdQpbdH"
      }
    },
    {
      "cell_type": "code",
      "execution_count": 29,
      "metadata": {
        "colab": {
          "base_uri": "https://localhost:8080/"
        },
        "id": "oE08kji_c1UQ",
        "outputId": "921c6fdf-c149-4d4b-dc03-09d688e46b4a"
      },
      "outputs": [
        {
          "output_type": "stream",
          "name": "stdout",
          "text": [
            "[('профобразование', 0.5406875014305115), ('базовое', 0.5256827473640442), ('специализированное', 0.5053411722183228)]\n"
          ]
        }
      ],
      "source": [
        "model = Word2Vec.load(\"word2vec.model\")\n",
        "\n",
        "# Получение вектора для слова\n",
        "vector = model.wv[\"образование\"]\n",
        "\n",
        "# Нахождение похожих слов\n",
        "similar_words = model.wv.most_similar(\"образование\", topn=3)\n",
        "print(similar_words)"
      ]
    },
    {
      "cell_type": "code",
      "execution_count": 30,
      "metadata": {
        "id": "-LAfEG00UdXf",
        "colab": {
          "base_uri": "https://localhost:8080/"
        },
        "outputId": "5eea086c-92cc-4b37-fc6c-e3f315ff59a9"
      },
      "outputs": [
        {
          "output_type": "stream",
          "name": "stdout",
          "text": [
            "0.5406875\n"
          ]
        }
      ],
      "source": [
        "similarity = model.wv.similarity(\"образование\", \"профобразование\")\n",
        "print(similarity)"
      ]
    },
    {
      "cell_type": "code",
      "execution_count": 31,
      "metadata": {
        "id": "W10AJTofUlyJ",
        "colab": {
          "base_uri": "https://localhost:8080/"
        },
        "outputId": "490879a5-2cf8-4867-e69d-f6a3efd68509"
      },
      "outputs": [
        {
          "output_type": "execute_result",
          "data": {
            "text/plain": [
              "array([-3.03496420e-01,  1.99208915e-01, -2.99376070e-01,  8.87115300e-02,\n",
              "        1.18287817e-01, -3.45098585e-01,  3.33607383e-02,  1.84310973e-01,\n",
              "        2.41208255e-01,  1.67250603e-01,  3.25548649e-01, -1.95614904e-01,\n",
              "        6.26474395e-02,  3.65444243e-01,  2.50038862e-01, -4.50465441e-01,\n",
              "        1.15440622e-01, -2.70445079e-01, -3.50582540e-01, -1.02818280e-01,\n",
              "       -7.95853809e-02,  2.36432374e-01, -1.45993948e-01,  1.59794956e-01,\n",
              "        4.93070818e-02,  8.27493742e-02, -2.90865034e-01, -4.97729182e-01,\n",
              "       -2.55117685e-01, -2.98337847e-01,  3.17273647e-01, -7.79594719e-01,\n",
              "        2.06061244e-01, -1.66738659e-01, -2.17337638e-01,  2.21157223e-01,\n",
              "        1.04440667e-01,  5.90461016e-01, -5.19083321e-01, -3.08722984e-02,\n",
              "        3.10973357e-03, -4.48351413e-01, -2.59510547e-01,  2.17113718e-01,\n",
              "       -5.92652738e-01, -4.53881830e-01, -4.53419030e-01,  8.41425359e-02,\n",
              "       -3.45473379e-01,  9.49179232e-02,  4.01475132e-01, -4.07667682e-02,\n",
              "        4.90583405e-02,  1.40165597e-01, -5.39991140e-01,  3.98407429e-01,\n",
              "        3.75975758e-01,  1.60519019e-01, -2.75127441e-01,  1.64176449e-01,\n",
              "       -3.74714285e-01,  1.47109568e-01,  5.12451641e-02, -3.21255058e-01,\n",
              "        2.01575145e-01,  4.46496576e-01, -2.12329969e-01,  1.20896041e-01,\n",
              "       -3.30044026e-03,  1.89434573e-01, -6.21033967e-01,  4.33401279e-02,\n",
              "       -2.48570964e-01,  1.22430466e-01, -2.80711889e-01,  1.91076562e-01,\n",
              "       -2.73188204e-01, -1.75696550e-05,  3.52690406e-02,  7.30275828e-03,\n",
              "        1.42646441e-02,  8.80873501e-02, -1.16914041e-01, -1.92721501e-01,\n",
              "       -8.51086855e-01,  2.81626642e-01,  9.93872806e-02,  1.39324412e-01,\n",
              "        4.36336100e-01,  2.29504019e-01, -1.01040378e-01, -1.85177207e-01,\n",
              "       -3.72869521e-01, -2.58307643e-02,  2.17259586e-01,  1.42097756e-01,\n",
              "        1.48149520e-01, -3.98971379e-01, -2.84272999e-01, -1.14750110e-01],\n",
              "      dtype=float32)"
            ]
          },
          "metadata": {},
          "execution_count": 31
        }
      ],
      "source": [
        "model.wv['профобразование']"
      ]
    },
    {
      "cell_type": "code",
      "source": [
        "import matplotlib.pyplot as plt\n",
        "plt.style.use('seaborn-v0_8')\n",
        "\n",
        "# Модуль для построения PCA\n",
        "from sklearn.decomposition import PCA\n",
        "\n",
        "def pca_scatterplot(model, words=None, sample=0):\n",
        "  word_vectors = [model.wv[w] for w in words]\n",
        "  # Сокращаем размерность векторов до 2D\n",
        "  vectors_2d = PCA().fit_transform(word_vectors)\n",
        "  # Отрисовка изображения, задаем размер 12 на 10\n",
        "  plt.figure(figsize=(12,10))\n",
        "  # Задаем цвет точек и ссылаемся на данные по осям x (0) и y (1)\n",
        "  plt.scatter(vectors_2d[:,0], vectors_2d[:,1], c='g')\n",
        "  # Добавляем подписи к данным, проходимся по списку слов\n",
        "  for i, word in enumerate(words):\n",
        "    # Соотносим слово с его двухмерным вектором\n",
        "    plt.annotate(word, (vectors_2d[i, 0], vectors_2d[i, 1]))\n",
        "\n",
        "# Картируем несколько слов\n",
        "pca_scatterplot(model, ['образование', 'базовое', 'высшее', 'книга', 'мнение', 'фильм', 'наука',\n",
        "                                'студенты', 'гранты', 'будущего', 'человечество', ])"
      ],
      "metadata": {
        "colab": {
          "base_uri": "https://localhost:8080/",
          "height": 777
        },
        "id": "fXtRlHESX8Bp",
        "outputId": "bd591576-87a9-40a6-e7af-d68cdd6c3e72"
      },
      "execution_count": 32,
      "outputs": [
        {
          "output_type": "display_data",
          "data": {
            "text/plain": [
              "<Figure size 1200x1000 with 1 Axes>"
            ],
            "image/png": "[encoded data removed]"
          },
          "metadata": {}
        }
      ]
    },
    {
      "cell_type": "markdown",
      "source": [
        "Домашнее задание:"
      ],
      "metadata": {
        "id": "baKHWH64qX6w"
      }
    },
    {
      "cell_type": "code",
      "source": [
        "with open(\"Эти господа обыкновенно претендуют на.txt\", \"r\", encoding=\"utf-8\") as f:\n",
        "    text = f.read()"
      ],
      "metadata": {
        "id": "YgvJ8wcWa0XQ"
      },
      "execution_count": 33,
      "outputs": []
    },
    {
      "cell_type": "code",
      "source": [
        "from langchain.text_splitter import RecursiveCharacterTextSplitter\n",
        "text_splitter = RecursiveCharacterTextSplitter(\n",
        "    chunk_size=1000,\n",
        "    chunk_overlap=100\n",
        ")\n",
        "chunks = text_splitter.split_text(text)"
      ],
      "metadata": {
        "id": "AX1UApVtbQVt"
      },
      "execution_count": 35,
      "outputs": []
    },
    {
      "cell_type": "code",
      "source": [
        "\"\"\"\n",
        "Создаем векторную базу знаний с помощью модели SentenceTransformer\n",
        "\"\"\"\n",
        "# Загружаем Sentence Transformers\n",
        "from sentence_transformers import SentenceTransformer\n",
        "# Загружаем библиотеку numpy для работы с матрицами и векторами\n",
        "import numpy as np\n",
        "\n",
        "# Загружаем модель для создания векторных представлений\n",
        "model = SentenceTransformer('all-MiniLM-L6-v2')\n",
        "\n",
        "# Кодируем чанки с помощью готовой модели\n",
        "vectors = model.encode(chunks)"
      ],
      "metadata": {
        "id": "0xTGxenqbwYU"
      },
      "execution_count": 45,
      "outputs": []
    },
    {
      "cell_type": "code",
      "source": [
        "\"\"\"\n",
        "Создаем индекс с помощью FAISS\n",
        "\"\"\"\n",
        "# Устанавливаем библиотеку FAISS\n",
        "!pip install faiss-cpu\n",
        "import faiss\n",
        "\n",
        "# Вычисляем размерность вектора\n",
        "dimension = vectors.shape[1]\n",
        "# Создаем индекс, числовой \"каталог\" текстов\n",
        "faiss_index = faiss.IndexFlatL2(dimension)\n",
        "faiss_index.add(np.array(vectors))"
      ],
      "metadata": {
        "colab": {
          "base_uri": "https://localhost:8080/"
        },
        "id": "QR136D8mcQlb",
        "outputId": "1aa849b1-62e7-485f-9fe8-8befbd69b9c4"
      },
      "execution_count": 46,
      "outputs": [
        {
          "output_type": "stream",
          "name": "stdout",
          "text": [
            "Requirement already satisfied: faiss-cpu in /usr/local/lib/python3.11/dist-packages (1.10.0)\n",
            "Requirement already satisfied: numpy<3.0,>=1.25.0 in /usr/local/lib/python3.11/dist-packages (from faiss-cpu) (1.26.4)\n",
            "Requirement already satisfied: packaging in /usr/local/lib/python3.11/dist-packages (from faiss-cpu) (24.2)\n"
          ]
        }
      ]
    },
    {
      "cell_type": "code",
      "source": [
        "query = \"кто такой Ковалев?\" # Введите сюда свой вопрос по текстам\n",
        "top_k = 1 # Выбираем, какое количество результатов мы хотим вывести (здесь 1, т.е. мы выведем только самый релевантный результат, но это число можно увеличить, например, получить 5 верхних результатов)\n",
        "vector = model.encode([query]) # Кодируем вектор\n",
        "\n",
        "# Производим поиск\n",
        "distances, indices = faiss_index.search(vector, top_k)\n",
        "\n",
        "# Создаем каталог результатов\n",
        "results = []\n",
        "for i, idx in enumerate(indices[0]):\n",
        "        results.append({\n",
        "            \"chunk\": chunks[idx],\n",
        "            \"score\": float(distances[0][i])\n",
        "        })\n",
        "\n",
        "# Выводим первый результат с ответом на вопрос\n",
        "print(\"Top results for the query:\")\n",
        "print(f\"Chunk: {results[0]['chunk']}\\nScore: {results[0]['score']}\\n\")"
      ],
      "metadata": {
        "colab": {
          "base_uri": "https://localhost:8080/"
        },
        "id": "DmWHWy1pcb7k",
        "outputId": "a5fd4f67-3fdc-4ff2-954f-c31676ebd238"
      },
      "execution_count": 53,
      "outputs": [
        {
          "output_type": "stream",
          "name": "stdout",
          "text": [
            "Top results for the query:\n",
            "Chunk: но и от крепостного своего человека. Хотя издали — пожалуй! отчего же?.. Чей нос? А-а! майора Ковалева?\n",
            "Score: 0.6556332111358643\n",
            "\n"
          ]
        }
      ]
    },
    {
      "cell_type": "code",
      "source": [
        "query = \"чей нос?\" # Введите сюда свой вопрос по текстам\n",
        "top_k = 1 # Выбираем, какое количество результатов мы хотим вывести (здесь 1, т.е. мы выведем только самый релевантный результат, но это число можно увеличить, например, получить 5 верхних результатов)\n",
        "vector = model.encode([query]) # Кодируем вектор\n",
        "\n",
        "# Производим поиск\n",
        "distances, indices = faiss_index.search(vector, top_k)\n",
        "\n",
        "# Создаем каталог результатов\n",
        "results = []\n",
        "for i, idx in enumerate(indices[0]):\n",
        "        results.append({\n",
        "            \"chunk\": chunks[idx],\n",
        "            \"score\": float(distances[0][i])\n",
        "        })\n",
        "\n",
        "# Выводим первый результат с ответом на вопрос\n",
        "print(\"Top results for the query:\")\n",
        "print(f\"Chunk: {results[0]['chunk']}\\nScore: {results[0]['score']}\\n\")"
      ],
      "metadata": {
        "colab": {
          "base_uri": "https://localhost:8080/"
        },
        "id": "P1TNunAYcoIe",
        "outputId": "f8980282-d7d6-4129-9690-6c1cc57bf024"
      },
      "execution_count": 51,
      "outputs": [
        {
          "output_type": "stream",
          "name": "stdout",
          "text": [
            "Top results for the query:\n",
            "Chunk: но и от крепостного своего человека. Хотя издали — пожалуй! отчего же?.. Чей нос? А-а! майора Ковалева?\n",
            "Score: 0.6131453514099121\n",
            "\n"
          ]
        }
      ]
    },
    {
      "cell_type": "markdown",
      "source": [
        "таким образом, мы представляем каждый чанк в виде вектора, вычисляем его размерность, задаем индекс, по которому затем обращаемся для выдачи наиболее релевантного ответа\n",
        "\n",
        "получившиеся результаты релевантны только потому, что содержат информацию о предмете, названном в вопросе. Тем не менее, ответ не всегда корректен, формат выдачи ответа тоже оставляет желать лучшего\n",
        "\n",
        "такую систему можно использовать при поиске контекста для конкретного слова (например, чат-бот может выдать подходящий ответ из базы данных)"
      ],
      "metadata": {
        "id": "Cp1RIJZvLOnP"
      }
    },
    {
      "cell_type": "markdown",
      "source": [],
      "metadata": {
        "id": "6vNgV2FANG7Q"
      }
    }
  ],
  "metadata": {
    "colab": {
      "provenance": []
    },
    "kernelspec": {
      "display_name": "Python 3",
      "name": "python3"
    },
    "language_info": {
      "name": "python"
    }
  },
  "nbformat": 4,
  "nbformat_minor": 0
}